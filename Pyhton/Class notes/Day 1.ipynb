{
 "cells": [
  {
   "cell_type": "code",
   "execution_count": 1,
   "id": "71b9e102-5280-4a2e-aad5-725f7207cb00",
   "metadata": {},
   "outputs": [
    {
     "name": "stdout",
     "output_type": "stream",
     "text": [
      "hello\n"
     ]
    }
   ],
   "source": [
    "print(\"hello\")"
   ]
  },
  {
   "cell_type": "code",
   "execution_count": 2,
   "id": "4cca9aab-f55d-444a-a013-451f4cb47e33",
   "metadata": {},
   "outputs": [
    {
     "name": "stdout",
     "output_type": "stream",
     "text": [
      "hello world \n"
     ]
    }
   ],
   "source": [
    "print(\"hello world \")\n"
   ]
  },
  {
   "cell_type": "code",
   "execution_count": 3,
   "id": "7d126189-049b-4ab2-9c83-9978993d9d9c",
   "metadata": {},
   "outputs": [
    {
     "ename": "SyntaxError",
     "evalue": "cannot assign to literal here. Maybe you meant '==' instead of '='? (164450302.py, line 1)",
     "output_type": "error",
     "traceback": [
      "\u001b[1;36m  Cell \u001b[1;32mIn[3], line 1\u001b[1;36m\u001b[0m\n\u001b[1;33m    7=8\u001b[0m\n\u001b[1;37m    ^\u001b[0m\n\u001b[1;31mSyntaxError\u001b[0m\u001b[1;31m:\u001b[0m cannot assign to literal here. Maybe you meant '==' instead of '='?\n"
     ]
    }
   ],
   "source": [
    "7=8\n",
    "print(7)\n"
   ]
  },
  {
   "cell_type": "code",
   "execution_count": 4,
   "id": "a2215fba-e2b4-4ef9-b576-95aacae1daf8",
   "metadata": {},
   "outputs": [
    {
     "name": "stdout",
     "output_type": "stream",
     "text": [
      "7\n"
     ]
    }
   ],
   "source": [
    "7==8\n",
    "print(7)\n"
   ]
  },
  {
   "cell_type": "code",
   "execution_count": 5,
   "id": "fbffda1c-1cb1-4899-bc32-7f44f6fec359",
   "metadata": {},
   "outputs": [
    {
     "name": "stdout",
     "output_type": "stream",
     "text": [
      "7\n"
     ]
    }
   ],
   "source": [
    "_myvariable=7\n",
    "print(_myvariable)"
   ]
  },
  {
   "cell_type": "code",
   "execution_count": 6,
   "id": "1face49e-102f-4141-b298-87dbfd8d4165",
   "metadata": {},
   "outputs": [
    {
     "name": "stdout",
     "output_type": "stream",
     "text": [
      "7\n"
     ]
    }
   ],
   "source": [
    "#legalvariable\n",
    "_myvariable=7\n",
    "print(_myvariable)"
   ]
  },
  {
   "cell_type": "code",
   "execution_count": 7,
   "id": "3578e717-efef-4c1f-9cf5-1278d3be43af",
   "metadata": {},
   "outputs": [
    {
     "ename": "SyntaxError",
     "evalue": "invalid syntax (3108159635.py, line 3)",
     "output_type": "error",
     "traceback": [
      "\u001b[1;36m  Cell \u001b[1;32mIn[7], line 3\u001b[1;36m\u001b[0m\n\u001b[1;33m    print(%myvariable)\u001b[0m\n\u001b[1;37m          ^\u001b[0m\n\u001b[1;31mSyntaxError\u001b[0m\u001b[1;31m:\u001b[0m invalid syntax\n"
     ]
    }
   ],
   "source": [
    "#illegalvariable\n",
    "%myvariable=7\n",
    "print(%myvariable)"
   ]
  },
  {
   "cell_type": "code",
   "execution_count": null,
   "id": "14eb7b4d-cdf4-4fc5-a298-5204452778c9",
   "metadata": {},
   "outputs": [],
   "source": []
  }
 ],
 "metadata": {
  "kernelspec": {
   "display_name": "Python 3 (ipykernel)",
   "language": "python",
   "name": "python3"
  },
  "language_info": {
   "codemirror_mode": {
    "name": "ipython",
    "version": 3
   },
   "file_extension": ".py",
   "mimetype": "text/x-python",
   "name": "python",
   "nbconvert_exporter": "python",
   "pygments_lexer": "ipython3",
   "version": "3.13.5"
  }
 },
 "nbformat": 4,
 "nbformat_minor": 5
}
