{
 "cells": [
  {
   "cell_type": "code",
   "execution_count": 3,
   "id": "96aeaf94-5224-4c40-b203-788b950e55ac",
   "metadata": {},
   "outputs": [
    {
     "name": "stdout",
     "output_type": "stream",
     "text": [
      "chennai is the metropolitan city\n"
     ]
    }
   ],
   "source": [
    "a=\"Chennai is the metropolitan city\"\n",
    "print(a.casefold())"
   ]
  },
  {
   "cell_type": "code",
   "execution_count": 4,
   "id": "a5fa3853-7c56-489c-867a-dc979582aadb",
   "metadata": {},
   "outputs": [
    {
     "name": "stdout",
     "output_type": "stream",
     "text": [
      "0\n"
     ]
    }
   ],
   "source": [
    "b=\"I need a bag for storing products\"\n",
    "print(b.count(a))"
   ]
  },
  {
   "cell_type": "code",
   "execution_count": 6,
   "id": "f5f907eb-0151-4fe2-b7c9-25bb4bb3a3d3",
   "metadata": {},
   "outputs": [
    {
     "name": "stdout",
     "output_type": "stream",
     "text": [
      "-1\n"
     ]
    }
   ],
   "source": [
    "print(b.find(a))"
   ]
  },
  {
   "cell_type": "code",
   "execution_count": 7,
   "id": "4529c031-d94d-4bb9-aca6-2238f6e3762e",
   "metadata": {},
   "outputs": [
    {
     "name": "stdout",
     "output_type": "stream",
     "text": [
      "I need a bag for storing products\n"
     ]
    }
   ],
   "source": [
    "#use a dictionary with ascii codes to replace 83 (S) with 80 (P):\n",
    "mydict = {83:  80}\n",
    "print(b.translate(mydict))"
   ]
  },
  {
   "cell_type": "code",
   "execution_count": 4,
   "id": "c0501c03-fbc8-4734-961c-a21b1d6ecf9e",
   "metadata": {},
   "outputs": [
    {
     "name": "stdout",
     "output_type": "stream",
     "text": [
      "Welcome To My World\n"
     ]
    }
   ],
   "source": [
    "c=\"welcome to my world\"\n",
    "print (c.title())"
   ]
  },
  {
   "cell_type": "code",
   "execution_count": 5,
   "id": "d1259bf1-b84a-4877-a6ef-bb47cb51b651",
   "metadata": {},
   "outputs": [
    {
     "name": "stdout",
     "output_type": "stream",
     "text": [
      "welcome to my world\n"
     ]
    }
   ],
   "source": [
    "print(c.casefold())"
   ]
  },
  {
   "cell_type": "code",
   "execution_count": 6,
   "id": "9516929e-022c-426b-b723-10779e2303eb",
   "metadata": {},
   "outputs": [
    {
     "name": "stdout",
     "output_type": "stream",
     "text": [
      "['Akash,raja,ravi']\n"
     ]
    }
   ],
   "source": [
    "d=\"Akash,raja,ravi \"\n",
    "print(d.rsplit())"
   ]
  },
  {
   "cell_type": "code",
   "execution_count": 7,
   "id": "cc196c22-0555-4929-82fc-cfd629b8bae7",
   "metadata": {},
   "outputs": [
    {
     "name": "stdout",
     "output_type": "stream",
     "text": [
      "Hello to my world\n"
     ]
    }
   ],
   "source": [
    "print(c.replace(\"welcome\",\"Hello\"))"
   ]
  },
  {
   "cell_type": "code",
   "execution_count": 8,
   "id": "e1ad6542-5c4a-41ac-8120-d4f5af28044f",
   "metadata": {},
   "outputs": [
    {
     "name": "stdout",
     "output_type": "stream",
     "text": [
      "False\n"
     ]
    }
   ],
   "source": [
    "e=\"XII\"\n",
    "print(e.isnumeric())"
   ]
  },
  {
   "cell_type": "code",
   "execution_count": 12,
   "id": "620391f5-267a-4f9d-bc07-a618d054b295",
   "metadata": {},
   "outputs": [
    {
     "name": "stdout",
     "output_type": "stream",
     "text": [
      "True True True\n"
     ]
    }
   ],
   "source": [
    "f=\"2046\"\n",
    "print(f.isnumeric(),f.isdecimal(),f.isdigit())\n"
   ]
  },
  {
   "cell_type": "code",
   "execution_count": null,
   "id": "013cc9c2-50b8-4794-bc82-9057d6d208d1",
   "metadata": {},
   "outputs": [],
   "source": []
  }
 ],
 "metadata": {
  "kernelspec": {
   "display_name": "Python 3 (ipykernel)",
   "language": "python",
   "name": "python3"
  },
  "language_info": {
   "codemirror_mode": {
    "name": "ipython",
    "version": 3
   },
   "file_extension": ".py",
   "mimetype": "text/x-python",
   "name": "python",
   "nbconvert_exporter": "python",
   "pygments_lexer": "ipython3",
   "version": "3.13.5"
  }
 },
 "nbformat": 4,
 "nbformat_minor": 5
}
