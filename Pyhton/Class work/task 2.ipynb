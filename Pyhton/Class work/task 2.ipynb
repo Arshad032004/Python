{
 "cells": [
  {
   "cell_type": "code",
   "execution_count": 2,
   "id": "68821df1-2677-4303-a025-c388c6abd8de",
   "metadata": {},
   "outputs": [],
   "source": [
    "k=\"\"\" He is teaching pyhton\"\"\""
   ]
  },
  {
   "cell_type": "code",
   "execution_count": 3,
   "id": "769445be-6548-4442-bf8e-e8c9c67e9e5b",
   "metadata": {},
   "outputs": [
    {
     "name": "stdout",
     "output_type": "stream",
     "text": [
      "s\n"
     ]
    }
   ],
   "source": [
    "k=\"arshad\"\n",
    "print (k[2])"
   ]
  },
  {
   "cell_type": "code",
   "execution_count": 4,
   "id": "a077b672-0d86-4f76-9f26-b939928537e7",
   "metadata": {},
   "outputs": [
    {
     "name": "stdout",
     "output_type": "stream",
     "text": [
      "sh\n"
     ]
    }
   ],
   "source": [
    "print(k[2:4])"
   ]
  },
  {
   "cell_type": "code",
   "execution_count": 6,
   "id": "d614f271-04ea-4206-9415-a06e73287cf5",
   "metadata": {},
   "outputs": [
    {
     "name": "stdout",
     "output_type": "stream",
     "text": [
      " Wor\n"
     ]
    },
    {
     "data": {
      "text/plain": [
       "(None, 'lo, ', '')"
      ]
     },
     "execution_count": 6,
     "metadata": {},
     "output_type": "execute_result"
    }
   ],
   "source": [
    "x=\"Hello, World!\"\n",
    "print(x[-7:-3]),(x[3:7]),(x[7:4])"
   ]
  },
  {
   "cell_type": "code",
   "execution_count": 7,
   "id": "b24986d1-3097-444e-a76a-93e7278ed82c",
   "metadata": {},
   "outputs": [
    {
     "name": "stdout",
     "output_type": "stream",
     "text": [
      " Wor\n"
     ]
    },
    {
     "data": {
      "text/plain": [
       "(None, '', '')"
      ]
     },
     "execution_count": 7,
     "metadata": {},
     "output_type": "execute_result"
    }
   ],
   "source": [
    "print(x[-7:-3]),(x[-3:-7]),(x[7:4])"
   ]
  },
  {
   "cell_type": "code",
   "execution_count": 10,
   "id": "c97f4789-6627-4de7-a8e4-8c09365e07b8",
   "metadata": {},
   "outputs": [
    {
     "name": "stdout",
     "output_type": "stream",
     "text": [
      "HELLO, WORLD!\n"
     ]
    },
    {
     "data": {
      "text/plain": [
       "(None, 'hello, world!', 'Hello, World!', 'Hello, world!', ['Hello,', 'World!'])"
      ]
     },
     "execution_count": 10,
     "metadata": {},
     "output_type": "execute_result"
    }
   ],
   "source": [
    "print(x.upper()),(x.lower()),(x.strip()),(x.capitalize()),(x.split())"
   ]
  },
  {
   "cell_type": "code",
   "execution_count": 11,
   "id": "df4536f9-c8fe-4472-a8ed-18103411098f",
   "metadata": {},
   "outputs": [
    {
     "name": "stdout",
     "output_type": "stream",
     "text": [
      "['hi', 'hello', 'hey']\n"
     ]
    }
   ],
   "source": [
    "y=\"hi,hello,hey\"\n",
    "print(y.split(\",\"))"
   ]
  },
  {
   "cell_type": "code",
   "execution_count": 12,
   "id": "6231991b-9dda-4306-9d3f-485a76adc156",
   "metadata": {},
   "outputs": [
    {
     "name": "stdout",
     "output_type": "stream",
     "text": [
      "Hi I'm sri from trichy\n"
     ]
    }
   ],
   "source": [
    "name=\"sri\"\n",
    "native=\"trichy\"\n",
    "print (f\"Hi I'm {name} from {native}\")"
   ]
  },
  {
   "cell_type": "code",
   "execution_count": 20,
   "id": "9372f67b-2286-4455-a929-a194c83590d1",
   "metadata": {},
   "outputs": [
    {
     "ename": "SyntaxError",
     "evalue": "invalid syntax. Perhaps you forgot a comma? (2788784362.py, line 1)",
     "output_type": "error",
     "traceback": [
      "\u001b[1;36m  Cell \u001b[1;32mIn[20], line 1\u001b[1;36m\u001b[0m\n\u001b[1;33m    print(x.upper(),x.lower(),x.strip(),x.capitalize(),x.split()sep =(\",\"))\u001b[0m\n\u001b[1;37m                                                       ^\u001b[0m\n\u001b[1;31mSyntaxError\u001b[0m\u001b[1;31m:\u001b[0m invalid syntax. Perhaps you forgot a comma?\n"
     ]
    }
   ],
   "source": [
    "print(x.upper(),x.lower(),x.strip(),x.capitalize(),x.split()sep =(\",\"))"
   ]
  },
  {
   "cell_type": "code",
   "execution_count": null,
   "id": "bf816465-00cb-44ca-8d9b-bb66a6e3feae",
   "metadata": {},
   "outputs": [],
   "source": []
  }
 ],
 "metadata": {
  "kernelspec": {
   "display_name": "Python 3 (ipykernel)",
   "language": "python",
   "name": "python3"
  },
  "language_info": {
   "codemirror_mode": {
    "name": "ipython",
    "version": 3
   },
   "file_extension": ".py",
   "mimetype": "text/x-python",
   "name": "python",
   "nbconvert_exporter": "python",
   "pygments_lexer": "ipython3",
   "version": "3.13.5"
  }
 },
 "nbformat": 4,
 "nbformat_minor": 5
}
