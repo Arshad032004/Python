{
 "cells": [
  {
   "cell_type": "code",
   "execution_count": 1,
   "id": "cd906181-9cd4-4695-ac8b-c0c0db25ee90",
   "metadata": {},
   "outputs": [
    {
     "name": "stdout",
     "output_type": "stream",
     "text": [
      "50\n"
     ]
    }
   ],
   "source": [
    "#legal\n",
    "_Count=50\n",
    "print(_Count)\n"
   ]
  },
  {
   "cell_type": "code",
   "execution_count": 2,
   "id": "5425866c-0b8f-48fc-ba25-701e5344c336",
   "metadata": {},
   "outputs": [
    {
     "name": "stdout",
     "output_type": "stream",
     "text": [
      "20\n"
     ]
    }
   ],
   "source": [
    "#legal\n",
    "Sales_amount=20\n",
    "print(Sales_amount)"
   ]
  },
  {
   "cell_type": "code",
   "execution_count": 3,
   "id": "fc197712-2edc-48ca-8955-c39e3a36a6ee",
   "metadata": {},
   "outputs": [
    {
     "name": "stdout",
     "output_type": "stream",
     "text": [
      "50\n"
     ]
    }
   ],
   "source": [
    "#legal\n",
    "Age20=50\n",
    "print(Age20)"
   ]
  },
  {
   "cell_type": "code",
   "execution_count": 5,
   "id": "8cb17444-ef28-48f0-ad04-03323ed496a8",
   "metadata": {},
   "outputs": [
    {
     "name": "stdout",
     "output_type": "stream",
     "text": [
      "Arshad\n"
     ]
    }
   ],
   "source": [
    "#legal\n",
    "Name_3=\"Arshad\"\n",
    "print(Name_3)"
   ]
  },
  {
   "cell_type": "code",
   "execution_count": 6,
   "id": "af86ccca-1f46-4f1d-9e08-d2b518e4d990",
   "metadata": {},
   "outputs": [
    {
     "name": "stdout",
     "output_type": "stream",
     "text": [
      "Python\n"
     ]
    }
   ],
   "source": [
    "#legal\n",
    "_File_name=\"Python\"\n",
    "print(_File_name)"
   ]
  },
  {
   "cell_type": "code",
   "execution_count": 7,
   "id": "229ddf83-7014-40b3-a46d-ad1d6c6aa72d",
   "metadata": {},
   "outputs": [
    {
     "ename": "SyntaxError",
     "evalue": "invalid decimal literal (2216169897.py, line 2)",
     "output_type": "error",
     "traceback": [
      "\u001b[1;36m  Cell \u001b[1;32mIn[7], line 2\u001b[1;36m\u001b[0m\n\u001b[1;33m    2File=30\u001b[0m\n\u001b[1;37m    ^\u001b[0m\n\u001b[1;31mSyntaxError\u001b[0m\u001b[1;31m:\u001b[0m invalid decimal literal\n"
     ]
    }
   ],
   "source": [
    "#illegal\n",
    "2File=30\n",
    "print(2File)"
   ]
  },
  {
   "cell_type": "code",
   "execution_count": 8,
   "id": "1d6a83f1-ff09-4477-b47a-ff533e5178c2",
   "metadata": {},
   "outputs": [
    {
     "ename": "SyntaxError",
     "evalue": "invalid syntax (3284660930.py, line 2)",
     "output_type": "error",
     "traceback": [
      "\u001b[1;36m  Cell \u001b[1;32mIn[8], line 2\u001b[1;36m\u001b[0m\n\u001b[1;33m    My file=\"Python\"\u001b[0m\n\u001b[1;37m       ^\u001b[0m\n\u001b[1;31mSyntaxError\u001b[0m\u001b[1;31m:\u001b[0m invalid syntax\n"
     ]
    }
   ],
   "source": [
    "#illegal\n",
    "My file=\"Python\"\n",
    "print(My file)"
   ]
  },
  {
   "cell_type": "code",
   "execution_count": 9,
   "id": "15813541-b989-4c3d-b764-bdac7cde3ad7",
   "metadata": {},
   "outputs": [
    {
     "ename": "SyntaxError",
     "evalue": "cannot assign to expression here. Maybe you meant '==' instead of '='? (3272546579.py, line 2)",
     "output_type": "error",
     "traceback": [
      "\u001b[1;36m  Cell \u001b[1;32mIn[9], line 2\u001b[1;36m\u001b[0m\n\u001b[1;33m    Student-name=\"Arshad\"\u001b[0m\n\u001b[1;37m    ^\u001b[0m\n\u001b[1;31mSyntaxError\u001b[0m\u001b[1;31m:\u001b[0m cannot assign to expression here. Maybe you meant '==' instead of '='?\n"
     ]
    }
   ],
   "source": [
    "#illegal\n",
    "Student-name=\"Arshad\"\n",
    "print(Student-name)"
   ]
  },
  {
   "cell_type": "code",
   "execution_count": 10,
   "id": "23c9757f-c298-4062-8067-db52d4a99b58",
   "metadata": {},
   "outputs": [
    {
     "ename": "SyntaxError",
     "evalue": "invalid syntax (2002578633.py, line 3)",
     "output_type": "error",
     "traceback": [
      "\u001b[1;36m  Cell \u001b[1;32mIn[10], line 3\u001b[1;36m\u001b[0m\n\u001b[1;33m    print(Id@)\u001b[0m\n\u001b[1;37m             ^\u001b[0m\n\u001b[1;31mSyntaxError\u001b[0m\u001b[1;31m:\u001b[0m invalid syntax\n"
     ]
    }
   ],
   "source": [
    "#illegal\n",
    "Id@=1024\n",
    "print(Id@)"
   ]
  },
  {
   "cell_type": "code",
   "execution_count": 12,
   "id": "ade939b0-679a-4118-b723-8556e7535309",
   "metadata": {},
   "outputs": [
    {
     "ename": "SyntaxError",
     "evalue": "cannot assign to expression here. Maybe you meant '==' instead of '='? (4269021483.py, line 2)",
     "output_type": "error",
     "traceback": [
      "\u001b[1;36m  Cell \u001b[1;32mIn[12], line 2\u001b[1;36m\u001b[0m\n\u001b[1;33m    -Name=\"Akash\"\u001b[0m\n\u001b[1;37m    ^\u001b[0m\n\u001b[1;31mSyntaxError\u001b[0m\u001b[1;31m:\u001b[0m cannot assign to expression here. Maybe you meant '==' instead of '='?\n"
     ]
    }
   ],
   "source": [
    "#illegal\n",
    "-Name=\"Akash\"\n",
    "print(-Name)"
   ]
  },
  {
   "cell_type": "code",
   "execution_count": null,
   "id": "9cc7b39e-376e-4246-bc33-89887961011e",
   "metadata": {},
   "outputs": [],
   "source": []
  }
 ],
 "metadata": {
  "kernelspec": {
   "display_name": "Python 3 (ipykernel)",
   "language": "python",
   "name": "python3"
  },
  "language_info": {
   "codemirror_mode": {
    "name": "ipython",
    "version": 3
   },
   "file_extension": ".py",
   "mimetype": "text/x-python",
   "name": "python",
   "nbconvert_exporter": "python",
   "pygments_lexer": "ipython3",
   "version": "3.13.5"
  }
 },
 "nbformat": 4,
 "nbformat_minor": 5
}
